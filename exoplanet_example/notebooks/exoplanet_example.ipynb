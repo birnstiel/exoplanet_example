{
 "cells": [
  {
   "cell_type": "code",
   "execution_count": null,
   "metadata": {},
   "outputs": [],
   "source": [
    "import rebound\n",
    "from exoplanet_example import get_fname\n",
    "\n",
    "from ipywidgets import widgets\n",
    "from IPython.display import display"
   ]
  },
  {
   "cell_type": "code",
   "execution_count": null,
   "metadata": {},
   "outputs": [],
   "source": [
    "s = rebound.Simulation(get_fname('sosy.bin'))\n",
    "w = s.getWidget()\n",
    "b = widgets.Button(description='Simuliere', tooltip='Klick startet die Simulation', icon='fa-play-circle')\n",
    "\n",
    "def simulate(value):\n",
    "    s.integrate(s.t + 1000)\n",
    "    \n",
    "b.on_click(simulate)\n",
    "\n",
    "display(widgets.HBox([b, w]))"
   ]
  }
 ],
 "metadata": {
  "kernelspec": {
   "display_name": "Python 3",
   "language": "python",
   "name": "python3"
  },
  "language_info": {
   "codemirror_mode": {
    "name": "ipython",
    "version": 3
   },
   "file_extension": ".py",
   "mimetype": "text/x-python",
   "name": "python",
   "nbconvert_exporter": "python",
   "pygments_lexer": "ipython3",
   "version": "3.8.5"
  }
 },
 "nbformat": 4,
 "nbformat_minor": 4
}
