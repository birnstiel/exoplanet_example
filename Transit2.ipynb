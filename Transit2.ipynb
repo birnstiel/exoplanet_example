{
 "cells": [
  {
   "cell_type": "code",
   "execution_count": null,
   "metadata": {},
   "outputs": [],
   "source": [
    "%matplotlib notebook"
   ]
  },
  {
   "cell_type": "code",
   "execution_count": null,
   "metadata": {},
   "outputs": [],
   "source": [
    "import ipywidgets as widgets\n",
    "from ipywidgets import interact, interact_manual"
   ]
  },
  {
   "cell_type": "code",
   "execution_count": null,
   "metadata": {},
   "outputs": [],
   "source": [
    "from bqplot import pyplot as bqp"
   ]
  },
  {
   "cell_type": "code",
   "execution_count": null,
   "metadata": {},
   "outputs": [],
   "source": [
    "import batman\n",
    "import matplotlib.pyplot as plt\n",
    "from ipywidgets import interactive\n",
    "import numpy as np\n",
    "from aux import get_flux"
   ]
  },
  {
   "cell_type": "code",
   "execution_count": null,
   "metadata": {},
   "outputs": [],
   "source": [
    "tdata = np.loadtxt('folded_corr_norm_prim_z.tbl')\n",
    "idx = tdata[:, 0].argsort()\n",
    "tdata = tdata[idx, :]\n",
    "x = tdata[:, 0] - 1\n",
    "y = tdata[:, 1]\n",
    "dy = tdata[:, 2]"
   ]
  },
  {
   "cell_type": "code",
   "execution_count": null,
   "metadata": {},
   "outputs": [],
   "source": [
    "x, y, dy = np.loadtxt('fake.dat').T"
   ]
  },
  {
   "cell_type": "code",
   "execution_count": null,
   "metadata": {},
   "outputs": [],
   "source": [
    "x2 = np.linspace(x[0], x[-1], len(x))"
   ]
  },
  {
   "cell_type": "code",
   "execution_count": null,
   "metadata": {},
   "outputs": [],
   "source": [
    "p_sol = [0.1, 15., 0.1, 87., 90.]"
   ]
  },
  {
   "cell_type": "code",
   "execution_count": null,
   "metadata": {},
   "outputs": [],
   "source": [
    "flux = get_flux(x2, *p_sol)\n",
    "\n",
    "f, ax = plt.subplots()\n",
    "ax.errorbar(x, y, dy, ls='none', elinewidth=1, capsize=1, alpha=0.3)\n",
    "ax.plot(x2, flux, 'k-', lw=1, alpha=0.7)\n",
    "ax.set_xlabel(\"Time from central transit\")\n",
    "ax.set_ylabel(\"Relative flux\");"
   ]
  },
  {
   "cell_type": "code",
   "execution_count": null,
   "metadata": {},
   "outputs": [],
   "source": [
    "bqp.close(4)"
   ]
  },
  {
   "cell_type": "code",
   "execution_count": null,
   "metadata": {},
   "outputs": [],
   "source": [
    "html = widgets.HTML(\n",
    "    value='<h3>Transit Simulator</h3>', \n",
    "    description='')\n",
    " \n",
    "rp_text   = widgets.Label(value='Radius des Planeten [in Sternenradiien]')\n",
    "rp_slider = widgets.FloatSlider(value=0.01, min=0.01, max=1, step=0.005, description='')\n",
    "\n",
    "a_text    = widgets.Label(value='Große Hauptachse [in Sternenradien]')\n",
    "a_slider  = widgets.FloatSlider(value=5, min=0.01, max=50, step=0.1, description='')\n",
    "\n",
    "e_text    = widgets.Label(value='Exzentrizität')\n",
    "e_slider  = widgets.FloatSlider(value=0, min=0, max=0.99, step=0.01, description='')\n",
    "\n",
    "i_text    = widgets.Label(value='Inklination [Grad]')\n",
    "i_slider  = widgets.FloatSlider(value=90, min=0, max=90, step=1, description='')\n",
    "\n",
    "w_text    = widgets.Label(value='Apsidenlinie [Grad]')\n",
    "w_slider  = widgets.FloatSlider(value=180, min=0, max=360, step=1, description='')\n",
    "\n",
    "button = widgets.Button(description='Berechne!')\n",
    "\n",
    "\n",
    "output = widgets.Output()\n",
    "\n",
    "with output:\n",
    "    #f, ax = plt.subplots(constrained_layout=True, figsize=(6, 4))\n",
    "    bqp.figure(4, title='Transit Daten', constrained_layout=True)\n",
    "    bqp.plot(x, y)\n",
    "    line = bqp.plot(x2, np.ones_like(x2), c='k--')\n",
    "    bqp.show()\n",
    "    \n",
    "ax.errorbar(x, y, dy, ls='none', elinewidth=1, capsize=1, alpha=0.3)\n",
    "ax.plot(x2, np.ones_like(x2), 'k-', lw=1, alpha=0.7)\n",
    "ax.set_xlabel(\"Time from central transit\")\n",
    "ax.set_ylabel(\"Relative flux\");\n",
    "\n",
    "def update(self):\n",
    "    \"\"\"Draw line in plot\"\"\"\n",
    "    rp  = rp_slider.value\n",
    "    a   = a_slider.value\n",
    "    ecc = e_slider.value\n",
    "    inc = i_slider.value\n",
    "    w   = w_slider.value\n",
    "    line.y = get_flux(x2, rp, a, ecc, inc, w)\n",
    "    \n",
    "button.on_click(update)\n",
    "\n",
    "widgets.VBox([\n",
    "    html,\n",
    "    widgets.HBox([\n",
    "        widgets.VBox([\n",
    "            rp_text, rp_slider,\n",
    "            a_text, a_slider,\n",
    "            e_text, e_slider,\n",
    "        ]),\n",
    "    widgets.VBox([\n",
    "        i_text, i_slider,\n",
    "        w_text, w_slider,\n",
    "        ]),\n",
    "    ]),\n",
    "    button,\n",
    "    output\n",
    "])"
   ]
  }
 ],
 "metadata": {
  "kernelspec": {
   "display_name": "Python 3",
   "language": "python",
   "name": "python3"
  },
  "language_info": {
   "codemirror_mode": {
    "name": "ipython",
    "version": 3
   },
   "file_extension": ".py",
   "mimetype": "text/x-python",
   "name": "python",
   "nbconvert_exporter": "python",
   "pygments_lexer": "ipython3",
   "version": "3.8.3"
  }
 },
 "nbformat": 4,
 "nbformat_minor": 4
}
